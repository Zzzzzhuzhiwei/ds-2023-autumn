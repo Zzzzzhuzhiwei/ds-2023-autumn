{
 "cells": [
  {
   "cell_type": "markdown",
   "metadata": {},
   "source": [
    "NumPy（Numerical Python）是一个用于科学计算和数值计算的Python库，它提供了高性能的多维数组对象（称为numpy.ndarray）和广泛的数学函数，用于操作这些数组。\n",
    "\n",
    "\n",
    "### 创建一维数组\n",
    "arr1 = np.array([1, 2, 3])\n",
    "\n",
    "### 创建二维数组\n",
    "arr2 = np.array([[1, 2, 3], [4, 5, 6]])\n",
    "\n",
    "### 数组索引和切片\n",
    "element = arr1[0]\n",
    "subarray = arr2[:, 1]\n",
    "\n",
    "### 数组重塑\n",
    "reshaped = arr1.reshape(3, 1)\n",
    "\n",
    "### 数组拼接\n",
    "concatenated = np.concatenate((arr1, arr1))\n",
    "\n",
    "\n",
    "### 提供了线性代数运算，如求逆、求解线性方程组、特征值计算等\n",
    "inverse = np.linalg.inv(arr2)\n",
    "solution = np.linalg.solve(arr2, arr1)\n",
    "eigenvalues, eigenvectors = np.linalg.eig(arr2)"
   ]
  },
  {
   "cell_type": "code",
   "execution_count": 41,
   "metadata": {},
   "outputs": [
    {
     "name": "stdout",
     "output_type": "stream",
     "text": [
      "[ 1.69102581  1.03799838 -1.20993939 -1.80038763 -0.62931934  0.12844441\n",
      " -0.04023749 -0.85378869 -0.3559264  -0.26038935  1.5778295  -1.13885019\n",
      " -0.00561509 -0.09205888  0.84104067  0.61908568 -0.37908963 -0.78804851\n",
      " -0.73189613 -0.19853578 -1.00643075  0.36807969 -0.94222111  0.61867794\n",
      "  0.71125577 -0.12720281 -0.30427736  0.73613656  0.29428757  0.44020004\n",
      " -0.25208811 -1.92869982 -0.37067582 -0.50857446 -2.64430531 -0.54195604\n",
      " -0.20070122 -0.12291901  1.08508793 -0.76703869 -1.25061183 -0.59976821\n",
      "  2.22897342  0.16945095 -0.45778553 -0.519304   -0.16783324 -0.20044315\n",
      " -0.1160662   1.35570765 -2.27913006  0.83387089 -0.75633019 -0.82839361\n",
      " -0.08895999  1.30792232  1.11784052 -0.11459952  0.49855351 -1.09564528\n",
      "  0.83996195 -0.0653227   1.10951814 -1.22041384  0.48236764 -0.67988347\n",
      " -0.41252309  1.60677268  0.7530504  -0.27629884 -0.64041103  1.09134424\n",
      "  0.24067774 -2.15566877  0.61769061 -0.1587878   1.01938413  1.55927206\n",
      " -0.94918443  1.13756223  1.33189083  0.83796184  0.20107124 -0.87806848\n",
      "  0.28085675  1.45751273  0.62895187 -0.50730031  0.15044759 -1.55648125\n",
      "  0.71801265  0.64683596  1.68322647 -0.06935121  0.71558151 -1.10471262\n",
      "  0.14748073  1.82654451 -0.84857059  1.30031228]\n"
     ]
    }
   ],
   "source": [
    "import numpy as np\n",
    "\n",
    "# 生成服从标准正态分布的100个样本\n",
    "samples = np.random.randn(100)\n",
    "\n",
    "print(samples)\n"
   ]
  },
  {
   "cell_type": "code",
   "execution_count": 2,
   "metadata": {},
   "outputs": [
    {
     "data": {
      "image/png": "[encoded data removed]",
      "text/plain": [
       "<Figure size 432x288 with 1 Axes>"
      ]
     },
     "metadata": {},
     "output_type": "display_data"
    }
   ],
   "source": [
    "import matplotlib.pyplot as plt\n",
    "# 绘制直方图\n",
    "plt.hist(samples, bins=10, color='skyblue', edgecolor='black')\n",
    "plt.title('Standard Normal Distribution')\n",
    "plt.xlabel('Value')\n",
    "plt.ylabel('Frequency')\n",
    "plt.grid(True)\n",
    "plt.show()"
   ]
  },
  {
   "cell_type": "markdown",
   "metadata": {},
   "source": [
    "这段代码将生成一个直方图，其中x轴表示值，y轴表示频率。你可以根据需要更改bins参数来设置直方图的柱子数量。"
   ]
  },
  {
   "cell_type": "code",
   "execution_count": 7,
   "metadata": {},
   "outputs": [
    {
     "name": "stdout",
     "output_type": "stream",
     "text": [
      "特征值:\n",
      "[1. 1.]\n",
      "\n",
      "特征向量:\n",
      "[[1. 0.]\n",
      " [0. 1.]]\n"
     ]
    }
   ],
   "source": [
    "# 定义矩阵\n",
    "matrix = np.array([[1, 0],\n",
    "                  [0, 1]])\n",
    "\n",
    "# 计算特征值和特征向量\n",
    "eigenvalues, eigenvectors = np.linalg.eig(matrix)\n",
    "\n",
    "print(\"特征值:\")\n",
    "print(eigenvalues)\n",
    "print(\"\\n特征向量:\")\n",
    "print(eigenvectors)"
   ]
  },
  {
   "cell_type": "code",
   "execution_count": 8,
   "metadata": {},
   "outputs": [
    {
     "name": "stdout",
     "output_type": "stream",
     "text": [
      "最大特征值的估计: 6.0000001860544385\n"
     ]
    }
   ],
   "source": [
    "import numpy as np\n",
    "\n",
    "# 定义矩阵\n",
    "A = np.array([[2, 1],\n",
    "              [4, 5]])\n",
    "\n",
    "# 初始猜测的特征向量\n",
    "v = np.array([1.0, 1.0])\n",
    "\n",
    "# 迭代次数和收敛容限\n",
    "max_iterations = 1000\n",
    "tolerance = 1e-6\n",
    "\n",
    "for iteration in range(max_iterations):\n",
    "    # Perform matrix-vector multiplication\n",
    "    Av = np.dot(A, v)\n",
    "    \n",
    "    # Calculate the maximum element of Av\n",
    "    max_av = np.max(np.abs(Av))\n",
    "    \n",
    "    # Normalize the vector\n",
    "    v = Av / max_av\n",
    "    \n",
    "    # Calculate the eigenvalue estimate\n",
    "    eigenvalue = max_av\n",
    "    \n",
    "    # Check for convergence\n",
    "    if np.linalg.norm(np.dot(A, v) - eigenvalue * v) < tolerance:\n",
    "        break\n",
    "\n",
    "print(\"最大特征值的估计:\", eigenvalue)\n"
   ]
  },
  {
   "cell_type": "markdown",
   "metadata": {},
   "source": [
    "这段代码使用幂迭代法来计算矩阵[[2,1],[4,5]]的最大特征值。在每次迭代中，它执行矩阵向量乘法，归一化特征向量，并检查是否收敛。当收敛时，迭代停止，并最大特征值的估计存储在eigenvalue中。你可以根据需要调整max_iterations和tolerance来控制迭代的次数和精度。"
   ]
  },
  {
   "cell_type": "code",
   "execution_count": 37,
   "metadata": {},
   "outputs": [
    {
     "name": "stdout",
     "output_type": "stream",
     "text": [
      "协方差矩阵 C:\n",
      "[[ 0.33333333 -0.16666667 -0.16666667]\n",
      " [-0.16666667  0.33333333 -0.16666667]\n",
      " [-0.16666667 -0.16666667  0.33333333]]\n"
     ]
    }
   ],
   "source": [
    "import numpy as np\n",
    "\n",
    "# 创建数据矩阵\n",
    "data = np.array([[1, 0, 0],\n",
    "                 [0, 1, 0],\n",
    "                 [0, 0, 1]])\n",
    "\n",
    "# 计算协方差矩阵\n",
    "cov_matrix = np.cov(data, rowvar=False)\n",
    "\n",
    "print(\"协方差矩阵 C:\")\n",
    "print(cov_matrix)"
   ]
  },
  {
   "cell_type": "markdown",
   "metadata": {},
   "source": [
    "使用np.cov()函数来计算协方差矩阵。rowvar=False参数表示数据的每一列代表一个变量，而每一行代表一个观察值。"
   ]
  },
  {
   "cell_type": "code",
   "execution_count": 38,
   "metadata": {},
   "outputs": [
    {
     "name": "stdout",
     "output_type": "stream",
     "text": [
      "特征值:\n",
      "0.5\n",
      "0.5\n",
      "0.5\n",
      "\n",
      "特征向量:\n",
      "[ 0.81535458 -0.37029169 -0.44506289]\n",
      "[ 0.81535458 -0.37029169 -0.44506289]\n",
      "[ 0.81535458 -0.37029169 -0.44506289]\n"
     ]
    }
   ],
   "source": [
    "import numpy as np\n",
    "\n",
    "# 创建数据矩阵\n",
    "data = np.array([[1, 0, 0],\n",
    "                 [0, 1, 0],\n",
    "                 [0, 0, 1]])\n",
    "\n",
    "# 计算协方差矩阵\n",
    "cov_matrix = np.cov(data, rowvar=False)\n",
    "\n",
    "# 初始化特征向量的猜测\n",
    "v = np.random.rand(cov_matrix.shape[0])\n",
    "\n",
    "# 设置最大迭代次数和收敛容限\n",
    "max_iterations = 1000\n",
    "tolerance = 1e-6\n",
    "\n",
    "eigenvalues = []  # 存储特征值\n",
    "eigenvectors = []  # 存储特征向量\n",
    "\n",
    "for _ in range(cov_matrix.shape[0]):\n",
    "    for _ in range(max_iterations):\n",
    "        Av = np.dot(cov_matrix, v)\n",
    "        eigenvalue = np.linalg.norm(Av)  # 估计特征值\n",
    "        v = Av / eigenvalue  # 归一化特征向量\n",
    "\n",
    "        # 检查特征向量的收敛\n",
    "        if np.linalg.norm(np.dot(cov_matrix, v) - eigenvalue * v) < tolerance:\n",
    "            break\n",
    "\n",
    "    eigenvalues.append(eigenvalue)\n",
    "    eigenvectors.append(v)\n",
    "\n",
    "print(\"特征值:\")\n",
    "for eigenvalue in eigenvalues:\n",
    "    print(eigenvalue)\n",
    "\n",
    "print(\"\\n特征向量:\")\n",
    "for eigenvector in eigenvectors:\n",
    "    print(eigenvector)\n"
   ]
  }
 ],
 "metadata": {
  "kernelspec": {
   "display_name": "kpytorch",
   "language": "python",
   "name": "python3"
  },
  "language_info": {
   "codemirror_mode": {
    "name": "ipython",
    "version": 3
   },
   "file_extension": ".py",
   "mimetype": "text/x-python",
   "name": "python",
   "nbconvert_exporter": "python",
   "pygments_lexer": "ipython3",
   "version": "3.6.13"
  }
 },
 "nbformat": 4,
 "nbformat_minor": 2
}
